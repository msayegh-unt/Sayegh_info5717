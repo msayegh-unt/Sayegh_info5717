{
 "cells": [
  {
   "cell_type": "markdown",
   "metadata": {},
   "source": [
    "# INFO-5717-Assignment-one-code"
   ]
  },
  {
   "attachments": {},
   "cell_type": "markdown",
   "metadata": {},
   "source": [
    "# Question 1 (Reproduce the code on your textbook)"
   ]
  },
  {
   "cell_type": "code",
   "execution_count": null,
   "metadata": {},
   "outputs": [],
   "source": [
    "\"\"\"\n",
    "(1)Go Through the Reading Material for Lesson 2 in the Syllabus (should be “Downey: Chapter 2-7”), and find all the \n",
    "source codes in the main content of these chapters (not those in exercise);\n",
    "\n",
    "(2)For Each piece of code you found, use one code chunk in the Jupyter Notebook to repeat it (type it into the chunk\n",
    "and hit run), and then use another code chunk to make some changes (Strings, Operators, and Operands, etc.)\n",
    "and run it. \n",
    "\n",
    "If you encounter an error, don't panic, try to read the corresponding part of the textbook and fix it, you can also\n",
    "search solutions online. If you cannot fix it in 5 minutes, just skip and leave it there, but mark it as a question\n",
    "at the end of your Word Document;\n",
    "\"\"\""
   ]
  },
  {
   "cell_type": "code",
   "execution_count": 2,
   "metadata": {},
   "outputs": [
    {
     "name": "stdout",
     "output_type": "stream",
     "text": [
      "And now for something completely different\n",
      "17\n",
      "3.141592653589793\n"
     ]
    }
   ],
   "source": [
    "\"\"\"Loc 387: Assigment Statements\"\"\"\n",
    "# Text code\n",
    "message = 'And now for something completely different'\n",
    "n = 17\n",
    "pi = 3.141592653589793\n",
    "\n",
    "# My code\n",
    "print(message)\n",
    "print(n)\n",
    "print(pi)"
   ]
  },
  {
   "cell_type": "code",
   "execution_count": null,
   "metadata": {},
   "outputs": [],
   "source": []
  }
 ],
 "metadata": {
  "kernelspec": {
   "display_name": "Python 3",
   "language": "python",
   "name": "python3"
  },
  "language_info": {
   "codemirror_mode": {
    "name": "ipython",
    "version": 3
   },
   "file_extension": ".py",
   "mimetype": "text/x-python",
   "name": "python",
   "nbconvert_exporter": "python",
   "pygments_lexer": "ipython3",
   "version": "3.7.3"
  }
 },
 "nbformat": 4,
 "nbformat_minor": 2
}
