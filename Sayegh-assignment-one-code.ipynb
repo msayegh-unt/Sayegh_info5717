{
 "cells": [
  {
   "cell_type": "markdown",
   "metadata": {},
   "source": [
    "# INFO-5717-Assignment-one-code"
   ]
  },
  {
   "cell_type": "markdown",
   "metadata": {},
   "source": [
    "# Question 1 (Reproduce the code on your textbook)"
   ]
  },
  {
   "cell_type": "code",
   "execution_count": 45,
   "metadata": {},
   "outputs": [
    {
     "data": {
      "text/plain": [
       "\"\\n(1)Go Through the Reading Material for Lesson 2 in the Syllabus (should be “Downey: Chapter 2-7”), and find all the \\nsource codes in the main content of these chapters (not those in exercise);\\n\\n(2)For Each piece of code you found, use one code chunk in the Jupyter Notebook to repeat it (type it into the chunk\\nand hit run), and then use another code chunk to make some changes (Strings, Operators, and Operands, etc.)\\nand run it. \\n\\nIf you encounter an error, don't panic, try to read the corresponding part of the textbook and fix it, you can also\\nsearch solutions online. If you cannot fix it in 5 minutes, just skip and leave it there, but mark it as a question\\nat the end of your Word Document;\\n\""
      ]
     },
     "execution_count": 45,
     "metadata": {},
     "output_type": "execute_result"
    }
   ],
   "source": [
    "\"\"\"\n",
    "(1)Go Through the Reading Material for Lesson 2 in the Syllabus (should be “Downey: Chapter 2-7”), and find all the \n",
    "source codes in the main content of these chapters (not those in exercise);\n",
    "\n",
    "(2)For Each piece of code you found, use one code chunk in the Jupyter Notebook to repeat it (type it into the chunk\n",
    "and hit run), and then use another code chunk to make some changes (Strings, Operators, and Operands, etc.)\n",
    "and run it. \n",
    "\n",
    "If you encounter an error, don't panic, try to read the corresponding part of the textbook and fix it, you can also\n",
    "search solutions online. If you cannot fix it in 5 minutes, just skip and leave it there, but mark it as a question\n",
    "at the end of your Word Document;\n",
    "\"\"\""
   ]
  },
  {
   "cell_type": "code",
   "execution_count": 46,
   "metadata": {},
   "outputs": [
    {
     "name": "stdout",
     "output_type": "stream",
     "text": [
      "And now for something completely different\n",
      "17\n",
      "3.141592653589793\n"
     ]
    }
   ],
   "source": [
    "\"\"\"Loc 387: Assigment Statements\"\"\"\n",
    "# Text code\n",
    "message = 'And now for something completely different'\n",
    "n = 17\n",
    "pi = 3.141592653589793\n",
    "\n",
    "# My code\n",
    "print(message)\n",
    "print(n)\n",
    "print(pi)"
   ]
  },
  {
   "cell_type": "code",
   "execution_count": 47,
   "metadata": {},
   "outputs": [
    {
     "data": {
      "text/plain": [
       "'Location 402'"
      ]
     },
     "execution_count": 47,
     "metadata": {},
     "output_type": "execute_result"
    }
   ],
   "source": [
    "\"\"\"Location 402\"\"\"\n",
    "# 76trombones = 'big parade'\n",
    "# more@ = 1000000\n",
    "# class = 'Advanced Theoretical Zymurgy'\n",
    "\n",
    "# All have invalid syntax"
   ]
  },
  {
   "cell_type": "code",
   "execution_count": 48,
   "metadata": {},
   "outputs": [],
   "source": [
    "# Corrected syntax\n",
    "seventysixtrombones = 'big parade'\n",
    "moreat = 1000000\n",
    "_class = 'Advanced Theoretical Zymurgy'"
   ]
  },
  {
   "cell_type": "code",
   "execution_count": 49,
   "metadata": {},
   "outputs": [
    {
     "name": "stdout",
     "output_type": "stream",
     "text": [
      "17\n",
      "42.182\n",
      "1\n",
      "2\n"
     ]
    }
   ],
   "source": [
    "\"\"\"Loc 417: Expressions and Statements\"\"\"\n",
    "n = 17\n",
    "print(n)\n",
    "\n",
    "miles = 26.2\n",
    "print(miles * 1.61)\n",
    "\n",
    "print(1)\n",
    "x = 2\n",
    "print (x)\n"
   ]
  },
  {
   "cell_type": "code",
   "execution_count": 50,
   "metadata": {},
   "outputs": [
    {
     "name": "stdout",
     "output_type": "stream",
     "text": [
      "throatwarbler\n"
     ]
    }
   ],
   "source": [
    "\"\"\"Loc 456: String Operations\"\"\"\n",
    "first = 'throat'\n",
    "second = 'warbler'\n",
    "print(first + second)"
   ]
  },
  {
   "cell_type": "code",
   "execution_count": 51,
   "metadata": {},
   "outputs": [
    {
     "name": "stdout",
     "output_type": "stream",
     "text": [
      "75.0\n"
     ]
    }
   ],
   "source": [
    "\"\"\"Loc 471: Comments\"\"\"\n",
    "# Compute the percentage of the hour that has elapsed\n",
    "minute = 45\n",
    "percentage = (minute * 100)/60\n",
    "print (percentage)\n",
    "\n",
    "v = 5 # assign 5 to v\n",
    "v = 5 # velocity in meters/second\n"
   ]
  },
  {
   "cell_type": "code",
   "execution_count": 52,
   "metadata": {},
   "outputs": [
    {
     "name": "stdout",
     "output_type": "stream",
     "text": [
      "<class 'int'>\n",
      "32\n",
      "3\n",
      "-2\n",
      "32.0\n",
      "3.14159\n"
     ]
    }
   ],
   "source": [
    "\"\"\"Loc 552\"\"\"\n",
    "print(type(42))\n",
    "print(int('32'))\n",
    "print(int(3.999))\n",
    "print(int(-2.3))\n",
    "print(float(32))\n",
    "print(float('3.14159'))"
   ]
  },
  {
   "cell_type": "code",
   "execution_count": 53,
   "metadata": {},
   "outputs": [
    {
     "name": "stdout",
     "output_type": "stream",
     "text": [
      "-3.010299956639812\n"
     ]
    }
   ],
   "source": [
    "\"\"\"Loc 566: Math Functions\"\"\"\n",
    "import math\n",
    "\n",
    "signal_power = 1\n",
    "noise_power = 2\n",
    "ratio = signal_power / noise_power\n",
    "decibels = 10 * math.log10(ratio)\n",
    "print(decibels)"
   ]
  },
  {
   "cell_type": "code",
   "execution_count": 54,
   "metadata": {},
   "outputs": [
    {
     "name": "stdout",
     "output_type": "stream",
     "text": [
      "0.7071067811865475\n",
      "0.7071067811865475\n",
      "1.7071067811865475\n"
     ]
    }
   ],
   "source": [
    "\"\"\"Loc 582\"\"\"\n",
    "degrees = 45\n",
    "radians = degrees / 180.0 * math.pi\n",
    "print(math.sin(radians))\n",
    "\n",
    "x = math.sin(degrees / 360.0 * 2 * math.pi)\n",
    "print(x)\n",
    "\n",
    "x = math.exp(math.log(x+1))\n",
    "print(x)"
   ]
  },
  {
   "cell_type": "code",
   "execution_count": 55,
   "metadata": {},
   "outputs": [
    {
     "name": "stdout",
     "output_type": "stream",
     "text": [
      "I'm a lumberjack, and I am okay.\n",
      "I sleep all night and I work all day.\n",
      "I'm a lumberjack, and I am okay.\n",
      "I sleep all night and I work all day.\n"
     ]
    }
   ],
   "source": [
    "\"\"\"Loc 599: Adding New Functions\"\"\"\n",
    "def print_lyrics():\n",
    "    print(\"I'm a lumberjack, and I am okay.\")\n",
    "    print(\"I sleep all night and I work all day.\")\n",
    "    \n",
    "def repeat_lyrics():\n",
    "    print_lyrics()\n",
    "    print_lyrics()\n",
    "    \n",
    "repeat_lyrics()"
   ]
  },
  {
   "cell_type": "code",
   "execution_count": 56,
   "metadata": {},
   "outputs": [
    {
     "name": "stdout",
     "output_type": "stream",
     "text": [
      "Spam\n",
      "Spam\n",
      "3.141592653589793\n",
      "3.141592653589793\n",
      "SpamSpamSpamSpam\n",
      "SpamSpamSpamSpam\n",
      "-1.0\n",
      "-1.0\n",
      "Eric, the half a bee\n",
      "Eric, the half a bee\n"
     ]
    }
   ],
   "source": [
    "\"\"\"Loc 658\"\"\"\n",
    "def print_twice(bruce):\n",
    "    print(bruce)\n",
    "    print(bruce)\n",
    "    \n",
    "print_twice('Spam')\n",
    "print_twice(math.pi)\n",
    "print_twice('Spam'*4)\n",
    "print_twice(math.cos(math.pi))\n",
    "michael = 'Eric, the half a bee'\n",
    "print_twice(michael)"
   ]
  },
  {
   "cell_type": "code",
   "execution_count": 58,
   "metadata": {},
   "outputs": [
    {
     "name": "stdout",
     "output_type": "stream",
     "text": [
      "Bing tiddletiddle bang\n",
      "Bing tiddletiddle bang\n"
     ]
    }
   ],
   "source": [
    "\"\"\"Loc 671: Variables and Parameters Are Local\"\"\"\n",
    "def cat_twice(part1, part2):\n",
    "    cat = part1 + part2\n",
    "    print_twice(cat)\n",
    "    \n",
    "line1 = 'Bing tiddle'\n",
    "line2 = 'tiddle bang'\n",
    "cat_twice(line1, line2)"
   ]
  },
  {
   "cell_type": "code",
   "execution_count": 60,
   "metadata": {},
   "outputs": [
    {
     "name": "stdout",
     "output_type": "stream",
     "text": [
      "Bing\n",
      "Bing\n",
      "None\n",
      "<class 'NoneType'>\n"
     ]
    }
   ],
   "source": [
    "\"\"\"Loc 703: Fruitful Functions and Void Functions\"\"\"\n",
    "def print_twice(bruce):\n",
    "    print(bruce)\n",
    "    print(bruce)\n",
    "    \n",
    "result = print_twice('Bing')\n",
    "print(result)\n",
    "print(type(result))"
   ]
  },
  {
   "cell_type": "code",
   "execution_count": 1,
   "metadata": {},
   "outputs": [
    {
     "name": "stdout",
     "output_type": "stream",
     "text": [
      "<turtle.Turtle object at 0x1088a5b70>\n"
     ]
    }
   ],
   "source": [
    "\"\"\"Loc 819: The Turtle Module\"\"\"\n",
    "import turtle\n",
    "bob = turtle.Turtle()\n",
    "print(bob)\n",
    "turtle.mainloop()"
   ]
  },
  {
   "cell_type": "code",
   "execution_count": 5,
   "metadata": {},
   "outputs": [
    {
     "name": "stdout",
     "output_type": "stream",
     "text": [
      "1.75\n",
      "1\n",
      "45\n",
      "45\n"
     ]
    }
   ],
   "source": [
    "\"\"\"Loc 1026: Floor Division and Modulus\"\"\"\n",
    "minutes = 105\n",
    "print(minutes/60)\n",
    "\n",
    "hours = minutes // 60\n",
    "print(hours)\n",
    "\n",
    "remainder = minutes - hours*60\n",
    "print(remainder)\n",
    "\n",
    "remainder = minutes % 60\n",
    "print(remainder)"
   ]
  },
  {
   "cell_type": "code",
   "execution_count": 9,
   "metadata": {},
   "outputs": [
    {
     "name": "stdout",
     "output_type": "stream",
     "text": [
      "True\n",
      "False\n",
      "<class 'bool'>\n",
      "<class 'bool'>\n"
     ]
    }
   ],
   "source": [
    "\"\"\"Loc 1040: Boolean Expressions\"\"\"\n",
    "print(5 == 5)\n",
    "print(5 == 6)\n",
    "print(type(True))\n",
    "print(type(False))"
   ]
  },
  {
   "cell_type": "code",
   "execution_count": 12,
   "metadata": {},
   "outputs": [
    {
     "name": "stdout",
     "output_type": "stream",
     "text": [
      "q\n",
      "q\n",
      "What...is your name? \n",
      "2\n",
      "2\n",
      "What...is the airspeed velocity of an unladen swallow?\n",
      "2\n",
      "2\n"
     ]
    }
   ],
   "source": [
    "\"\"\"Loc 1174: Keyboard input\"\"\"\n",
    "text = input()\n",
    "print(text)\n",
    "\n",
    "name = input('What...is your name? \\n')\n",
    "print(name)\n",
    "\n",
    "prompt = 'What...is the airspeed velocity of an unladen swallow?\\n'\n",
    "speed = input(prompt)\n",
    "print(int(speed))"
   ]
  },
  {
   "cell_type": "code",
   "execution_count": 15,
   "metadata": {},
   "outputs": [
    {
     "name": "stdout",
     "output_type": "stream",
     "text": [
      "-0.4575749056067512\n"
     ]
    }
   ],
   "source": [
    "\"\"\"Loc 1202\"\"\"\n",
    "# Fixed version\n",
    "import math\n",
    "signal_power = 9\n",
    "noise_power = 10\n",
    "ratio = signal_power / noise_power\n",
    "decibels = 10 * math.log10(ratio)\n",
    "print(decibels)"
   ]
  },
  {
   "cell_type": "code",
   "execution_count": 18,
   "metadata": {},
   "outputs": [
    {
     "name": "stdout",
     "output_type": "stream",
     "text": [
      "Sum of Squares: 2.8284271247461903\n",
      "Area: 25.132741228718352\n",
      "Circle Area: 25.132741228718352\n",
      "25.132741228718352\n"
     ]
    }
   ],
   "source": [
    "\"\"\"Loc 1321\"\"\"\n",
    "def area(radius):\n",
    "    a = math.pi * radius**2\n",
    "    print('Area: ' + str(a))\n",
    "    return a\n",
    "\n",
    "def distance(x1, y1, x2, y2):\n",
    "    dx = x2 - x1\n",
    "    dy = y2 - y1\n",
    "    dsquared = dx**2 + dy**2\n",
    "    result = math.sqrt(dsquared)\n",
    "    print('Sum of Squares: ' + str(result))\n",
    "    return result\n",
    "\n",
    "def circle_area(xc, yc, xp, yp):\n",
    "    radius = distance(xc, yc, xp, yp)\n",
    "    result = area(radius)\n",
    "    print('Circle Area: ' + str(result))\n",
    "    return result\n",
    "\n",
    "print(circle_area(1,2,3,4))"
   ]
  },
  {
   "cell_type": "code",
   "execution_count": 22,
   "metadata": {},
   "outputs": [
    {
     "name": "stdout",
     "output_type": "stream",
     "text": [
      "x is divisible by y\n"
     ]
    }
   ],
   "source": [
    "\"\"\"Loc 1362: Boolean Functions\"\"\"\n",
    "def is_divisible(x,y):\n",
    "    if x%y == 0:\n",
    "        return True\n",
    "    else:\n",
    "        return False\n",
    "    \n",
    "if is_divisible(10,2):\n",
    "    print('x is divisible by y')\n",
    "else:\n",
    "    print('x is not divisible by y')"
   ]
  },
  {
   "cell_type": "code",
   "execution_count": 24,
   "metadata": {},
   "outputs": [
    {
     "name": "stdout",
     "output_type": "stream",
     "text": [
      "24\n"
     ]
    }
   ],
   "source": [
    "\"\"\"Loc 1391: More Recursion\"\"\"\n",
    "def factorial(n):\n",
    "    if n == 0:\n",
    "        return 1\n",
    "    else:\n",
    "        recurse = factorial(n-1)\n",
    "        result = n * recurse\n",
    "        return result\n",
    "    \n",
    "print(factorial(4))"
   ]
  },
  {
   "cell_type": "code",
   "execution_count": 25,
   "metadata": {},
   "outputs": [
    {
     "name": "stdout",
     "output_type": "stream",
     "text": [
      "21\n"
     ]
    }
   ],
   "source": [
    "\"\"\"Loc 1433: One More Example\"\"\"\n",
    "def fibonacci (n):\n",
    "    if n == 0:\n",
    "        return 0\n",
    "    elif n == 1:\n",
    "        return 1\n",
    "    else:\n",
    "        return fibonacci(n-1) + fibonacci(n-2)\n",
    "\n",
    "print(fibonacci(8))"
   ]
  },
  {
   "cell_type": "code",
   "execution_count": 5,
   "metadata": {},
   "outputs": [
    {
     "name": "stdout",
     "output_type": "stream",
     "text": [
      "20922789888000\n"
     ]
    }
   ],
   "source": [
    "\"\"\"Loc 1457\"\"\"\n",
    "def factorial(n):\n",
    "    if not isinstance(n, int):\n",
    "        print('Factorial is only defined for integers.')\n",
    "        return None\n",
    "    elif n < 0:\n",
    "        print ('Factorial is not defined for negative integers')\n",
    "        return None\n",
    "    elif n == 0:\n",
    "        return 1\n",
    "    else:\n",
    "        return n*factorial (n-1)\n",
    "    \n",
    "print(factorial(16))"
   ]
  },
  {
   "cell_type": "code",
   "execution_count": 8,
   "metadata": {},
   "outputs": [
    {
     "name": "stdout",
     "output_type": "stream",
     "text": [
      "                                 factorial 8\n",
      "                             factorial 7\n",
      "                         factorial 6\n",
      "                     factorial 5\n",
      "                 factorial 4\n",
      "             factorial 3\n",
      "         factorial 2\n",
      "     factorial 1\n",
      " factorial 0\n",
      " returning 1\n",
      "     returning 1\n",
      "         returning 2\n",
      "             returning 6\n",
      "                 returning 24\n",
      "                     returning 120\n",
      "                         returning 720\n",
      "                             returning 5040\n",
      "                                 returning 40320\n",
      "40320\n"
     ]
    }
   ],
   "source": [
    "\"\"\"Loc 1473\"\"\"\n",
    "def factorial(n):\n",
    "    space = ' ' * (4 * n)\n",
    "    print(space, 'factorial', n)\n",
    "    if n==0:\n",
    "        print(space, 'returning 1')\n",
    "        return 1\n",
    "    else:\n",
    "        recurse = factorial(n-1)\n",
    "        result = n * recurse\n",
    "        print(space, 'returning', result)\n",
    "        return result\n",
    "    \n",
    "print(factorial(8))"
   ]
  },
  {
   "cell_type": "code",
   "execution_count": 9,
   "metadata": {},
   "outputs": [
    {
     "name": "stdout",
     "output_type": "stream",
     "text": [
      "5\n",
      "7\n"
     ]
    }
   ],
   "source": [
    "\"\"\"Loc 1535 Chapter 7 Iteration: Reassignment\"\"\"\n",
    "x = 5\n",
    "print(x)\n",
    "\n",
    "x = 7 \n",
    "print(x)"
   ]
  },
  {
   "cell_type": "code",
   "execution_count": 12,
   "metadata": {},
   "outputs": [
    {
     "name": "stdout",
     "output_type": "stream",
     "text": [
      "5\n",
      "3\n",
      "1\n"
     ]
    }
   ],
   "source": [
    "\"\"\"Loc 1551\"\"\"\n",
    "a = 5\n",
    "b = a\n",
    "a = 3\n",
    "print(b)\n",
    "print(a)\n",
    "\n",
    "x = 0\n",
    "x = x + 1\n",
    "print(x)"
   ]
  },
  {
   "cell_type": "code",
   "execution_count": 13,
   "metadata": {},
   "outputs": [
    {
     "name": "stdout",
     "output_type": "stream",
     "text": [
      "10\n",
      "9\n",
      "8\n",
      "7\n",
      "6\n",
      "5\n",
      "4\n",
      "3\n",
      "2\n",
      "1\n",
      "Blastoff!\n"
     ]
    }
   ],
   "source": [
    "\"\"\"Loc 1565\"\"\"\n",
    "def countdown(n):\n",
    "    while n > 0:\n",
    "        print(n)\n",
    "        n = n - 1\n",
    "    print('Blastoff!')\n",
    "    \n",
    "countdown(10)"
   ]
  },
  {
   "cell_type": "code",
   "execution_count": 14,
   "metadata": {},
   "outputs": [
    {
     "name": "stdout",
     "output_type": "stream",
     "text": [
      "10\n",
      "5.0\n",
      "16.0\n",
      "8.0\n",
      "4.0\n",
      "2.0\n"
     ]
    }
   ],
   "source": [
    "\"\"\"Loc 1582\"\"\"\n",
    "def sequence(n):\n",
    "    while n != 1:\n",
    "        print(n)\n",
    "        if n % 2 == 0: # n is even\n",
    "            n = n/2\n",
    "        else: # n is even\n",
    "            n = n*3 + 1\n",
    "            \n",
    "sequence(10)"
   ]
  },
  {
   "cell_type": "code",
   "execution_count": 15,
   "metadata": {},
   "outputs": [
    {
     "name": "stdout",
     "output_type": "stream",
     "text": [
      "> mo\n",
      "mo\n",
      "> test\n",
      "test\n",
      "> done\n"
     ]
    }
   ],
   "source": [
    "\"\"\"Loc 1599\"\"\"\n",
    "while True:\n",
    "    line = input ('> ')\n",
    "    if line == 'done':\n",
    "        break\n",
    "    print(line)"
   ]
  },
  {
   "cell_type": "code",
   "execution_count": 20,
   "metadata": {},
   "outputs": [
    {
     "name": "stdout",
     "output_type": "stream",
     "text": [
      "2.1666666666666665\n",
      "2.0064102564102564\n",
      "2.0000102400262145\n",
      "2.0000000000262146\n",
      "2.0\n",
      "2.0000000000262146\n",
      "2.0\n",
      "2.0\n"
     ]
    }
   ],
   "source": [
    "\"\"\"Loc 1613\"\"\"\n",
    "a = 4\n",
    "x = 3\n",
    "y = (x + a/x) / 2\n",
    "print(y)\n",
    "\n",
    "x = y\n",
    "y = (x + a/x) / 2\n",
    "print(y)\n",
    "\n",
    "x = y\n",
    "y = (x + a/x) / 2\n",
    "print(y)\n",
    "\n",
    "x = y\n",
    "y = (x + a/x) / 2\n",
    "print(y)\n",
    "\n",
    "x = y\n",
    "y = (x + a/x) / 2\n",
    "print(y)\n",
    "\n",
    "while True:\n",
    "    print(x)\n",
    "    y = (x + a/x) / 2\n",
    "    if y == x:\n",
    "        break\n",
    "    x = y\n",
    "    print(y)"
   ]
  },
  {
   "attachments": {
    "image.png": {
     "image/png": "[encoded data removed]"
    }
   },
   "cell_type": "markdown",
   "metadata": {},
   "source": [
    "# Question 3\n",
    "Question 3. (15 points). Write a Python program in the “<LastName>_assognment-one-code.ipynb” file to generate 12 random numbers between 1 and 100. Sort the list of numbers in ascending order and print it out. Sort the list of numbers in descending order and print it out. Calculate the average for the group and print it out.![image.png](attachment:image.png)"
   ]
  },
  {
   "cell_type": "code",
   "execution_count": 57,
   "metadata": {},
   "outputs": [
    {
     "name": "stdout",
     "output_type": "stream",
     "text": [
      "[39, 87, 48, 91, 67, 96, 88, 61, 17, 56, 92, 26]\n",
      "[17, 26, 39, 48, 56, 61, 67, 87, 88, 91, 92, 96]\n",
      "[96, 92, 91, 88, 87, 67, 61, 56, 48, 39, 26, 17]\n",
      "64.0\n"
     ]
    }
   ],
   "source": [
    "# Generates random numbers\n",
    "\n",
    "def random_generator(n):\n",
    "    counter = 0\n",
    "    result_list = []\n",
    "    while counter < n:\n",
    "        result_list.append(random.randint(1,100))\n",
    "        counter = counter + 1\n",
    "    return result_list\n",
    "    \n",
    "\n",
    "import random\n",
    "n = 12\n",
    "# Prints random numbers\n",
    "answer1 = random_generator(n)\n",
    "print(answer1)\n",
    "\n",
    "# Sort list in ascending order and print\n",
    "answer1.sort()\n",
    "print(answer1)\n",
    "\n",
    "# Sort list in descending order and print\n",
    "answer1.sort(reverse = True)\n",
    "print(answer1)\n",
    "\n",
    "# Calculate average for list\n",
    "sum = 0\n",
    "for num in answer1:\n",
    "    sum = sum + num\n",
    "    average  = sum / len(answer1)\n",
    "print(average)\n",
    "    \n",
    "\n",
    "        \n",
    "        "
   ]
  },
  {
   "cell_type": "markdown",
   "metadata": {},
   "source": [
    "# Question 4\n",
    "Question 4. (25 points). Write a program in the “<LastName>_assognment-one-code.ipynb” file that will do the following string formatting tasks:\n",
    "(1)\tAsk the user to enter two sentences;\n",
    "(2)\tMake each sentence into a list. Each element in the list should correspond to a word in the sentence. For example, if the sentence is \"Alas! Am I alive? This is my first python program\", the program should print out ['Alas!', 'Am', 'I', 'alive?', 'This', 'is', 'my', 'first', 'python', 'program'] or ['Alas, '!', 'Am', 'I', 'alive, '?', 'This', 'is', 'my', 'first', 'python', 'program'];\n",
    "(3)\tCompare the two sentences. Print out a list of words that occur in both sentences;\n",
    "(4)\tRemove any punctuation from the sentence and print it back out. It should remove at least the following characters, but it can remove more: period (“.”), comma (“,”), semicolon (“;”), and colon (“:”);\n",
    "(5)\tCount the number of vowels in the sentences. Print out each vowel and the number of times it appears in the sentences, such as:  a:2, e:1, i:0, etc."
   ]
  },
  {
   "cell_type": "code",
   "execution_count": 44,
   "metadata": {},
   "outputs": [
    {
     "name": "stdout",
     "output_type": "stream",
     "text": [
      "Enter a sentence: test 1 sentence and \n",
      "Enter a second sentence: another you;\n",
      "['test', '1', 'sentence', 'and']\n",
      "['another', 'you;']\n",
      "set()\n",
      "test 1 sentence and \n",
      "another you\n",
      "a: 2\n",
      "e: 5\n",
      "i: 0\n",
      "o: 2\n",
      "u: 1\n"
     ]
    }
   ],
   "source": [
    "\"\"\"Question 4 answers\"\"\"\n",
    "\n",
    "def split_sentence(a):\n",
    "    result = a.split()\n",
    "    return result\n",
    "\n",
    "def compare_lists(a, b):\n",
    "    result = set(a).intersection(b)\n",
    "    return (result)\n",
    "        \n",
    "def remove_punctuation(a):\n",
    "    for x in a:\n",
    "        a = a.replace('.','')\n",
    "        a = a.replace(',','')\n",
    "        a = a.replace(':','')\n",
    "        a = a.replace(';','')\n",
    "    return(a)\n",
    "\n",
    "def count_vowels(vowel, sentence):\n",
    "    vowel_count = 0\n",
    "    for count in sentence:\n",
    "        if count == vowel:\n",
    "            vowel_count += 1\n",
    "    return vowel_count\n",
    "        \n",
    "    \n",
    "# Input and split first sentence\n",
    "sentence1 = input('Enter a sentence: ')\n",
    "sentence1_split = split_sentence(sentence1)\n",
    "\n",
    "# Input and split second sentence\n",
    "sentence2 = input('Enter a second sentence: ')\n",
    "sentence2_split = split_sentence(sentence2)\n",
    "\n",
    "# Test results\n",
    "print (sentence1_split)\n",
    "print (sentence2_split)\n",
    "\n",
    "print(compare_lists(sentence1_split, sentence2_split))\n",
    "\n",
    "# Remove punctuation\n",
    "print(remove_punctuation(sentence1))\n",
    "print(remove_punctuation(sentence2))\n",
    "\n",
    "# Vowel Count\n",
    "vowel = ['a','e','i','o','u']\n",
    "test_sentence = str(sentence1) + str(sentence2)\n",
    "for x in vowel:\n",
    "    print(x + ': ' + str(count_vowels(x,test_sentence)))"
   ]
  }
 ],
 "metadata": {
  "kernelspec": {
   "display_name": "Python 3",
   "language": "python",
   "name": "python3"
  },
  "language_info": {
   "codemirror_mode": {
    "name": "ipython",
    "version": 3
   },
   "file_extension": ".py",
   "mimetype": "text/x-python",
   "name": "python",
   "nbconvert_exporter": "python",
   "pygments_lexer": "ipython3",
   "version": "3.7.3"
  }
 },
 "nbformat": 4,
 "nbformat_minor": 2
}
